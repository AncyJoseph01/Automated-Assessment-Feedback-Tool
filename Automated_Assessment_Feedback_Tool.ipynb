{
  "nbformat": 4,
  "nbformat_minor": 0,
  "metadata": {
    "colab": {
      "provenance": [],
      "gpuType": "T4"
    },
    "kernelspec": {
      "name": "python3",
      "display_name": "Python 3"
    },
    "language_info": {
      "name": "python"
    },
    "accelerator": "GPU"
  },
  "cells": [
    {
      "cell_type": "markdown",
      "source": [
        "# Automated Assessment Feedback Tool"
      ],
      "metadata": {
        "id": "dTs7a0E8W_gT"
      }
    },
    {
      "cell_type": "markdown",
      "source": [
        "**This project uses the meta-llama/Llama-3.1-8B-Instruct model** to generate structured feedback for question-and-answer pairs extracted from a Word document (Q1.docx). The feedback is then added as comments to the same document. It is designed to provide automated, structured feedback on responses."
      ],
      "metadata": {
        "id": "BmNRCnVeXUkk"
      }
    },
    {
      "cell_type": "markdown",
      "source": [
        "##**Features**\n",
        "\n",
        "*   **Extracts Q&A:** Reads question-answer pairs from a Word document.\n",
        "*   **Generates Feedback:** Uses LLaMA 3.1 via Hugging Face's InferenceClient to produce structured feedback (positive points, praise, and suggestions for improvement).\n",
        "*   **Adds Comments:** Inserts feedback as comments in the original Word document.\n",
        "*   **Saves Output:** Updates the input document with feedback comments.\n",
        "\n",
        "##**Prerequisites**\n",
        "\n",
        "*   Python 3.8+\n",
        "*   A Hugging Face account with an API token for accessing the LLaMA model.\n",
        "*   A Word document (Q1.docx) with Q&A pairs formatted as Q1., Q2., etc., for questions and A1., A2., etc., for answers.\n",
        "\n",
        "##**Usage**\n",
        "*   Prepare the Input Document:\n",
        "    *    Create a Word document (Q1.docx) with Q&A pairs. Example format:\n",
        "\n",
        "    Q1. What is the safeguarding policy?\n",
        "\n",
        "    A1. The policy ensures safety and compliance.\n",
        "    \n",
        "    Q2. How is safeguarding implemented?\n",
        "\n",
        "    A2. Through training and regular audits.\n",
        "\n",
        "##**Run the Notebook**\n",
        "*   Open Comment_Project.ipynb in a Jupyter environment (e.g., Google Colab, JupyterLab).\n",
        "*   Execute all cells to:\n",
        "   *   Install dependencies.\n",
        "   *   Extract Q&A pairs from Q1.docx.\n",
        "   *   Generate feedback using LLaMA 3.1.\n",
        "   *   Add feedback as comments to Q1.docx.\n",
        "\n",
        "## **Output**\n",
        "*   The modified Q1.docx will contain feedback as comments for each question.\n",
        "*   Example feedback format:\n",
        "   *   ✅ Positive points: Clear explanation of the policy.\n",
        "   *   👏 Praise: Well-structured response.\n",
        "   *   ⚠️ Suggestions for improvement: Include specific examples to strengthen the answer.\n",
        "\n",
        "\n",
        "\n",
        "---\n",
        "\n"
      ],
      "metadata": {
        "id": "4HFBsxOLXkOw"
      }
    },
    {
      "cell_type": "code",
      "source": [
        "!pip install -q transformers accelerate peft bitsandbytes torch python-docx"
      ],
      "metadata": {
        "colab": {
          "base_uri": "https://localhost:8080/"
        },
        "id": "YZqBFbQTcY9n",
        "outputId": "face3d61-e158-44c9-98ae-604a2c9478eb"
      },
      "execution_count": null,
      "outputs": [
        {
          "output_type": "stream",
          "name": "stdout",
          "text": [
            "\u001b[2K   \u001b[90m━━━━━━━━━━━━━━━━━━━━━━━━━━━━━━━━━━━━━━━━\u001b[0m \u001b[32m72.9/72.9 MB\u001b[0m \u001b[31m10.4 MB/s\u001b[0m eta \u001b[36m0:00:00\u001b[0m\n",
            "\u001b[2K   \u001b[90m━━━━━━━━━━━━━━━━━━━━━━━━━━━━━━━━━━━━━━━━\u001b[0m \u001b[32m363.4/363.4 MB\u001b[0m \u001b[31m4.2 MB/s\u001b[0m eta \u001b[36m0:00:00\u001b[0m\n",
            "\u001b[2K   \u001b[90m━━━━━━━━━━━━━━━━━━━━━━━━━━━━━━━━━━━━━━━━\u001b[0m \u001b[32m13.8/13.8 MB\u001b[0m \u001b[31m20.1 MB/s\u001b[0m eta \u001b[36m0:00:00\u001b[0m\n",
            "\u001b[2K   \u001b[90m━━━━━━━━━━━━━━━━━━━━━━━━━━━━━━━━━━━━━━━━\u001b[0m \u001b[32m24.6/24.6 MB\u001b[0m \u001b[31m36.7 MB/s\u001b[0m eta \u001b[36m0:00:00\u001b[0m\n",
            "\u001b[2K   \u001b[90m━━━━━━━━━━━━━━━━━━━━━━━━━━━━━━━━━━━━━━━━\u001b[0m \u001b[32m883.7/883.7 kB\u001b[0m \u001b[31m44.1 MB/s\u001b[0m eta \u001b[36m0:00:00\u001b[0m\n",
            "\u001b[2K   \u001b[90m━━━━━━━━━━━━━━━━━━━━━━━━━━━━━━━━━━━━━━━━\u001b[0m \u001b[32m664.8/664.8 MB\u001b[0m \u001b[31m2.0 MB/s\u001b[0m eta \u001b[36m0:00:00\u001b[0m\n",
            "\u001b[2K   \u001b[90m━━━━━━━━━━━━━━━━━━━━━━━━━━━━━━━━━━━━━━━━\u001b[0m \u001b[32m211.5/211.5 MB\u001b[0m \u001b[31m5.4 MB/s\u001b[0m eta \u001b[36m0:00:00\u001b[0m\n",
            "\u001b[2K   \u001b[90m━━━━━━━━━━━━━━━━━━━━━━━━━━━━━━━━━━━━━━━━\u001b[0m \u001b[32m56.3/56.3 MB\u001b[0m \u001b[31m9.0 MB/s\u001b[0m eta \u001b[36m0:00:00\u001b[0m\n",
            "\u001b[2K   \u001b[90m━━━━━━━━━━━━━━━━━━━━━━━━━━━━━━━━━━━━━━━━\u001b[0m \u001b[32m127.9/127.9 MB\u001b[0m \u001b[31m7.7 MB/s\u001b[0m eta \u001b[36m0:00:00\u001b[0m\n",
            "\u001b[2K   \u001b[90m━━━━━━━━━━━━━━━━━━━━━━━━━━━━━━━━━━━━━━━━\u001b[0m \u001b[32m207.5/207.5 MB\u001b[0m \u001b[31m5.7 MB/s\u001b[0m eta \u001b[36m0:00:00\u001b[0m\n",
            "\u001b[2K   \u001b[90m━━━━━━━━━━━━━━━━━━━━━━━━━━━━━━━━━━━━━━━━\u001b[0m \u001b[32m21.1/21.1 MB\u001b[0m \u001b[31m51.4 MB/s\u001b[0m eta \u001b[36m0:00:00\u001b[0m\n",
            "\u001b[2K   \u001b[90m━━━━━━━━━━━━━━━━━━━━━━━━━━━━━━━━━━━━━━━━\u001b[0m \u001b[32m253.0/253.0 kB\u001b[0m \u001b[31m20.4 MB/s\u001b[0m eta \u001b[36m0:00:00\u001b[0m\n",
            "\u001b[?25h"
          ]
        }
      ]
    },
    {
      "cell_type": "code",
      "source": [],
      "metadata": {
        "id": "QJTP8CjtdHGV"
      },
      "execution_count": null,
      "outputs": []
    },
    {
      "cell_type": "code",
      "source": [
        "from google.colab import files\n",
        "uploaded = files.upload()\n"
      ],
      "metadata": {
        "colab": {
          "base_uri": "https://localhost:8080/",
          "height": 73
        },
        "id": "o7EInWEsdH5d",
        "outputId": "694d2dbb-6326-4e2d-b189-33496e1374de"
      },
      "execution_count": null,
      "outputs": [
        {
          "output_type": "display_data",
          "data": {
            "text/plain": [
              "<IPython.core.display.HTML object>"
            ],
            "text/html": [
              "\n",
              "     <input type=\"file\" id=\"files-635ba958-341d-40ee-85f6-c0ea2fa45c0d\" name=\"files[]\" multiple disabled\n",
              "        style=\"border:none\" />\n",
              "     <output id=\"result-635ba958-341d-40ee-85f6-c0ea2fa45c0d\">\n",
              "      Upload widget is only available when the cell has been executed in the\n",
              "      current browser session. Please rerun this cell to enable.\n",
              "      </output>\n",
              "      <script>// Copyright 2017 Google LLC\n",
              "//\n",
              "// Licensed under the Apache License, Version 2.0 (the \"License\");\n",
              "// you may not use this file except in compliance with the License.\n",
              "// You may obtain a copy of the License at\n",
              "//\n",
              "//      http://www.apache.org/licenses/LICENSE-2.0\n",
              "//\n",
              "// Unless required by applicable law or agreed to in writing, software\n",
              "// distributed under the License is distributed on an \"AS IS\" BASIS,\n",
              "// WITHOUT WARRANTIES OR CONDITIONS OF ANY KIND, either express or implied.\n",
              "// See the License for the specific language governing permissions and\n",
              "// limitations under the License.\n",
              "\n",
              "/**\n",
              " * @fileoverview Helpers for google.colab Python module.\n",
              " */\n",
              "(function(scope) {\n",
              "function span(text, styleAttributes = {}) {\n",
              "  const element = document.createElement('span');\n",
              "  element.textContent = text;\n",
              "  for (const key of Object.keys(styleAttributes)) {\n",
              "    element.style[key] = styleAttributes[key];\n",
              "  }\n",
              "  return element;\n",
              "}\n",
              "\n",
              "// Max number of bytes which will be uploaded at a time.\n",
              "const MAX_PAYLOAD_SIZE = 100 * 1024;\n",
              "\n",
              "function _uploadFiles(inputId, outputId) {\n",
              "  const steps = uploadFilesStep(inputId, outputId);\n",
              "  const outputElement = document.getElementById(outputId);\n",
              "  // Cache steps on the outputElement to make it available for the next call\n",
              "  // to uploadFilesContinue from Python.\n",
              "  outputElement.steps = steps;\n",
              "\n",
              "  return _uploadFilesContinue(outputId);\n",
              "}\n",
              "\n",
              "// This is roughly an async generator (not supported in the browser yet),\n",
              "// where there are multiple asynchronous steps and the Python side is going\n",
              "// to poll for completion of each step.\n",
              "// This uses a Promise to block the python side on completion of each step,\n",
              "// then passes the result of the previous step as the input to the next step.\n",
              "function _uploadFilesContinue(outputId) {\n",
              "  const outputElement = document.getElementById(outputId);\n",
              "  const steps = outputElement.steps;\n",
              "\n",
              "  const next = steps.next(outputElement.lastPromiseValue);\n",
              "  return Promise.resolve(next.value.promise).then((value) => {\n",
              "    // Cache the last promise value to make it available to the next\n",
              "    // step of the generator.\n",
              "    outputElement.lastPromiseValue = value;\n",
              "    return next.value.response;\n",
              "  });\n",
              "}\n",
              "\n",
              "/**\n",
              " * Generator function which is called between each async step of the upload\n",
              " * process.\n",
              " * @param {string} inputId Element ID of the input file picker element.\n",
              " * @param {string} outputId Element ID of the output display.\n",
              " * @return {!Iterable<!Object>} Iterable of next steps.\n",
              " */\n",
              "function* uploadFilesStep(inputId, outputId) {\n",
              "  const inputElement = document.getElementById(inputId);\n",
              "  inputElement.disabled = false;\n",
              "\n",
              "  const outputElement = document.getElementById(outputId);\n",
              "  outputElement.innerHTML = '';\n",
              "\n",
              "  const pickedPromise = new Promise((resolve) => {\n",
              "    inputElement.addEventListener('change', (e) => {\n",
              "      resolve(e.target.files);\n",
              "    });\n",
              "  });\n",
              "\n",
              "  const cancel = document.createElement('button');\n",
              "  inputElement.parentElement.appendChild(cancel);\n",
              "  cancel.textContent = 'Cancel upload';\n",
              "  const cancelPromise = new Promise((resolve) => {\n",
              "    cancel.onclick = () => {\n",
              "      resolve(null);\n",
              "    };\n",
              "  });\n",
              "\n",
              "  // Wait for the user to pick the files.\n",
              "  const files = yield {\n",
              "    promise: Promise.race([pickedPromise, cancelPromise]),\n",
              "    response: {\n",
              "      action: 'starting',\n",
              "    }\n",
              "  };\n",
              "\n",
              "  cancel.remove();\n",
              "\n",
              "  // Disable the input element since further picks are not allowed.\n",
              "  inputElement.disabled = true;\n",
              "\n",
              "  if (!files) {\n",
              "    return {\n",
              "      response: {\n",
              "        action: 'complete',\n",
              "      }\n",
              "    };\n",
              "  }\n",
              "\n",
              "  for (const file of files) {\n",
              "    const li = document.createElement('li');\n",
              "    li.append(span(file.name, {fontWeight: 'bold'}));\n",
              "    li.append(span(\n",
              "        `(${file.type || 'n/a'}) - ${file.size} bytes, ` +\n",
              "        `last modified: ${\n",
              "            file.lastModifiedDate ? file.lastModifiedDate.toLocaleDateString() :\n",
              "                                    'n/a'} - `));\n",
              "    const percent = span('0% done');\n",
              "    li.appendChild(percent);\n",
              "\n",
              "    outputElement.appendChild(li);\n",
              "\n",
              "    const fileDataPromise = new Promise((resolve) => {\n",
              "      const reader = new FileReader();\n",
              "      reader.onload = (e) => {\n",
              "        resolve(e.target.result);\n",
              "      };\n",
              "      reader.readAsArrayBuffer(file);\n",
              "    });\n",
              "    // Wait for the data to be ready.\n",
              "    let fileData = yield {\n",
              "      promise: fileDataPromise,\n",
              "      response: {\n",
              "        action: 'continue',\n",
              "      }\n",
              "    };\n",
              "\n",
              "    // Use a chunked sending to avoid message size limits. See b/62115660.\n",
              "    let position = 0;\n",
              "    do {\n",
              "      const length = Math.min(fileData.byteLength - position, MAX_PAYLOAD_SIZE);\n",
              "      const chunk = new Uint8Array(fileData, position, length);\n",
              "      position += length;\n",
              "\n",
              "      const base64 = btoa(String.fromCharCode.apply(null, chunk));\n",
              "      yield {\n",
              "        response: {\n",
              "          action: 'append',\n",
              "          file: file.name,\n",
              "          data: base64,\n",
              "        },\n",
              "      };\n",
              "\n",
              "      let percentDone = fileData.byteLength === 0 ?\n",
              "          100 :\n",
              "          Math.round((position / fileData.byteLength) * 100);\n",
              "      percent.textContent = `${percentDone}% done`;\n",
              "\n",
              "    } while (position < fileData.byteLength);\n",
              "  }\n",
              "\n",
              "  // All done.\n",
              "  yield {\n",
              "    response: {\n",
              "      action: 'complete',\n",
              "    }\n",
              "  };\n",
              "}\n",
              "\n",
              "scope.google = scope.google || {};\n",
              "scope.google.colab = scope.google.colab || {};\n",
              "scope.google.colab._files = {\n",
              "  _uploadFiles,\n",
              "  _uploadFilesContinue,\n",
              "};\n",
              "})(self);\n",
              "</script> "
            ]
          },
          "metadata": {}
        },
        {
          "output_type": "stream",
          "name": "stdout",
          "text": [
            "Saving Q1.docx to Q1.docx\n"
          ]
        }
      ]
    },
    {
      "cell_type": "markdown",
      "source": [
        "# Generate AI FeedbacK Using LLM meta-llama/Llama-3.1"
      ],
      "metadata": {
        "id": "GXhuWpyimb-H"
      }
    },
    {
      "cell_type": "code",
      "source": [
        "import os\n",
        "from docx import Document\n",
        "from huggingface_hub import InferenceClient\n",
        "\n",
        "# STEP 1: Set your Hugging Face token directly\n",
        "os.environ[\"HF_TOKEN\"] = \"KEY\"\n",
        "# STEP 2: Initialize InferenceClient for LLaMA 3.1\n",
        "client = InferenceClient(\n",
        "    model=\"meta-llama/Llama-3.1-8B-Instruct\",\n",
        "    token=os.environ[\"HF_TOKEN\"]\n",
        ")\n",
        "\n",
        "# STEP 3: Extract Q&A from Word\n",
        "def extract_qa(filepath):\n",
        "    doc = Document(filepath)\n",
        "    pairs = []\n",
        "    q, a = None, \"\"\n",
        "    for para in doc.paragraphs:\n",
        "        txt = para.text.strip()\n",
        "        if txt.startswith(\"Q\"):\n",
        "            if q:\n",
        "                pairs.append((q, a.strip()))\n",
        "            q, a = txt, \"\"\n",
        "        elif txt.startswith(\"A\"):\n",
        "            a += txt[1:].strip()\n",
        "        else:\n",
        "            a += \"\\n\" + txt\n",
        "    if q:\n",
        "        pairs.append((q, a.strip()))\n",
        "    return pairs\n",
        "\n",
        "# STEP 4: Generate feedback using hosted LLaMA\n",
        "def generate_feedback_llama(q, a):\n",
        "    prompt = f\"\"\"\n",
        "You are a safeguarding training assessor. Provide structured feedback for the answer below:\n",
        "\n",
        "Question: {q}\n",
        "Answer: {a}\n",
        "\n",
        "Format:\n",
        "✅ Positive points\n",
        "👏 Praise (if any)\n",
        "⚠️ Suggestions for improvement (if any)\n",
        "\"\"\"\n",
        "    response = client.chat.completions.create(\n",
        "        model=\"meta-llama/Llama-3.1-8B-Instruct\",\n",
        "        messages=[{\"role\": \"user\", \"content\": prompt}],\n",
        "        max_tokens=256,\n",
        "        temperature=0.7\n",
        "    )\n",
        "    return response.choices[0].message.content.strip()\n",
        "\n",
        "# STEP 5: Write feedback to Word file\n",
        "def write_feedback(feedbacks, out_path=\"Generated_Feedback.docx\"):\n",
        "    doc = Document()\n",
        "    for i, f in enumerate(feedbacks, 1):\n",
        "        doc.add_heading(f\"Feedback {i}\", level=2)\n",
        "        doc.add_paragraph(f)\n",
        "    doc.save(out_path)\n",
        "    print(f\"✅ Saved to {out_path}\")\n",
        "\n",
        "# STEP 6: Run the full pipeline\n",
        "qa_pairs = extract_qa(\"Q1.docx\")  # Adjust if filename changed\n",
        "feedbacks = [generate_feedback_llama(q, a) for q, a in qa_pairs]\n",
        "write_feedback(feedbacks)\n"
      ],
      "metadata": {
        "colab": {
          "base_uri": "https://localhost:8080/"
        },
        "id": "Yz5pG3lkdMR9",
        "outputId": "32429a12-e1d4-40f4-82a7-c6ab14c71e2a"
      },
      "execution_count": null,
      "outputs": [
        {
          "output_type": "stream",
          "name": "stdout",
          "text": [
            "✅ Saved to Generated_Feedback.docx\n"
          ]
        }
      ]
    },
    {
      "cell_type": "markdown",
      "source": [],
      "metadata": {
        "id": "iTsuK08TgrTz"
      }
    },
    {
      "cell_type": "code",
      "source": [
        "files.download(\"Generated_Feedback.docx\")"
      ],
      "metadata": {
        "colab": {
          "base_uri": "https://localhost:8080/",
          "height": 17
        },
        "id": "o-W5VVo2giAG",
        "outputId": "cb8fa048-e53d-45ca-8771-1a0c0769a357"
      },
      "execution_count": null,
      "outputs": [
        {
          "output_type": "display_data",
          "data": {
            "text/plain": [
              "<IPython.core.display.Javascript object>"
            ],
            "application/javascript": [
              "\n",
              "    async function download(id, filename, size) {\n",
              "      if (!google.colab.kernel.accessAllowed) {\n",
              "        return;\n",
              "      }\n",
              "      const div = document.createElement('div');\n",
              "      const label = document.createElement('label');\n",
              "      label.textContent = `Downloading \"${filename}\": `;\n",
              "      div.appendChild(label);\n",
              "      const progress = document.createElement('progress');\n",
              "      progress.max = size;\n",
              "      div.appendChild(progress);\n",
              "      document.body.appendChild(div);\n",
              "\n",
              "      const buffers = [];\n",
              "      let downloaded = 0;\n",
              "\n",
              "      const channel = await google.colab.kernel.comms.open(id);\n",
              "      // Send a message to notify the kernel that we're ready.\n",
              "      channel.send({})\n",
              "\n",
              "      for await (const message of channel.messages) {\n",
              "        // Send a message to notify the kernel that we're ready.\n",
              "        channel.send({})\n",
              "        if (message.buffers) {\n",
              "          for (const buffer of message.buffers) {\n",
              "            buffers.push(buffer);\n",
              "            downloaded += buffer.byteLength;\n",
              "            progress.value = downloaded;\n",
              "          }\n",
              "        }\n",
              "      }\n",
              "      const blob = new Blob(buffers, {type: 'application/binary'});\n",
              "      const a = document.createElement('a');\n",
              "      a.href = window.URL.createObjectURL(blob);\n",
              "      a.download = filename;\n",
              "      div.appendChild(a);\n",
              "      a.click();\n",
              "      div.remove();\n",
              "    }\n",
              "  "
            ]
          },
          "metadata": {}
        },
        {
          "output_type": "display_data",
          "data": {
            "text/plain": [
              "<IPython.core.display.Javascript object>"
            ],
            "application/javascript": [
              "download(\"download_9db45a5c-17e0-458f-870c-f07afbb0751d\", \"Generated_Feedback.docx\", 40898)"
            ]
          },
          "metadata": {}
        }
      ]
    },
    {
      "cell_type": "markdown",
      "source": [
        "# integrated the LLM model to post the feedback as a comment."
      ],
      "metadata": {
        "id": "akk8oGjam0su"
      }
    },
    {
      "cell_type": "code",
      "source": [
        "import os\n",
        "from docx import Document\n",
        "from huggingface_hub import InferenceClient\n",
        "\n",
        "# STEP 1: Set your Hugging Face token directly\n",
        "os.environ[\"HF_TOKEN\"] = \"Key\"  # ← Replace with yours if needed\n",
        "\n",
        "# STEP 2: Initialize InferenceClient for LLaMA 3.1\n",
        "client = InferenceClient(\n",
        "    model=\"meta-llama/Llama-3.1-8B-Instruct\",\n",
        "    token=os.environ[\"HF_TOKEN\"]\n",
        ")\n",
        "\n",
        "# STEP 3: Extract Q&A from Word\n",
        "def extract_qa(filepath):\n",
        "    doc = Document(filepath)\n",
        "    pairs = []\n",
        "    q, a = None, \"\"\n",
        "    for para in doc.paragraphs:\n",
        "        txt = para.text.strip()\n",
        "        if txt.startswith(\"Q\"):\n",
        "            if q:\n",
        "                pairs.append((q, a.strip()))\n",
        "            q, a = txt, \"\"\n",
        "        elif txt.startswith(\"A\"):\n",
        "            a += txt[1:].strip()\n",
        "        else:\n",
        "            a += \"\\n\" + txt\n",
        "    if q:\n",
        "        pairs.append((q, a.strip()))\n",
        "    return pairs, doc\n",
        "\n",
        "# STEP 4: Generate feedback using hosted LLaMA\n",
        "def generate_feedback_llama(q, a):\n",
        "    prompt = f\"\"\"\n",
        "You are a safeguarding training assessor. Provide structured feedback for the answer below:\n",
        "\n",
        "Question: {q}\n",
        "Answer: {a}\n",
        "\n",
        "Format:\n",
        "✅ Positive points\n",
        "👏 Praise (if any)\n",
        "⚠️ Suggestions for improvement (if any)\n",
        "\"\"\"\n",
        "    response = client.chat.completions.create(\n",
        "        model=\"meta-llama/Llama-3.1-8B-Instruct\",\n",
        "        messages=[{\"role\": \"user\", \"content\": prompt}],\n",
        "        max_tokens=256,\n",
        "        temperature=0.7\n",
        "    )\n",
        "    return response.choices[0].message.content.strip()\n",
        "\n",
        "# STEP 5: Add feedback as comments to Word file\n",
        "def add_feedback_as_comments(doc, qa_pairs):\n",
        "    for i, (q, a) in enumerate(qa_pairs, 1):\n",
        "        feedback = generate_feedback_llama(q, a)\n",
        "        # Find the paragraph starting with Q and add comment\n",
        "        for para in doc.paragraphs:\n",
        "            if para.text.strip().startswith(f\"Q{i}.\"):\n",
        "                if para.runs:  # Ensure there are runs\n",
        "                    first_run = para.runs[0]  # First run of the paragraph\n",
        "                    last_run = para.runs[-1] if len(para.runs) > 1 else first_run  # Last run\n",
        "                    # Add comment with the run range\n",
        "                    comment = doc.add_comment(runs=[first_run, last_run], text=feedback, author=\"Ancy\")\n",
        "                    # Ensure comment is properly placed (no need for manual range markup with runs provided)\n",
        "                break\n",
        "\n",
        "# STEP 6: Run the full pipeline\n",
        "qa_pairs, doc = extract_qa(\"Q1.docx\")  # Adjust if filename changed\n",
        "add_feedback_as_comments(doc, qa_pairs)\n",
        "doc.save(\"Q1.docx\")\n",
        "print(\"✅ Feedback added as comments to Q1.docx\")"
      ],
      "metadata": {
        "colab": {
          "base_uri": "https://localhost:8080/"
        },
        "id": "TvvxX25Sjxe9",
        "outputId": "17c0b8ed-a44b-4afd-fca2-7070dfeda2a8"
      },
      "execution_count": null,
      "outputs": [
        {
          "output_type": "stream",
          "name": "stdout",
          "text": [
            "✅ Feedback added as comments to Q1.docx\n"
          ]
        }
      ]
    }
  ]
}